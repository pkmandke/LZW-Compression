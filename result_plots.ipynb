{
 "cells": [
  {
   "cell_type": "markdown",
   "metadata": {},
   "source": [
    "# Results visualization\n",
    "\n",
    "This notebook presents the results of compressing 17 utf-8 text files for each the following distributions:\n",
    "* Gaussian \n",
    "* Poisson\n",
    "* Uniform\n",
    "* Exponential\n",
    "\n",
    "The characters in the files have been sampled from the aforementioned probability distributions.\n",
    "The file sizes range from 500KB through 40MB.\n"
   ]
  },
  {
   "cell_type": "code",
   "execution_count": 1,
   "metadata": {},
   "outputs": [
    {
     "name": "stdout",
     "output_type": "stream",
     "text": [
      "/home/coep/venv/lzw/bin/python3\r\n"
     ]
    }
   ],
   "source": [
    "! which python3"
   ]
  },
  {
   "cell_type": "code",
   "execution_count": 3,
   "metadata": {},
   "outputs": [],
   "source": [
    "import pandas as pd\n",
    "import matplotlib.pyplot as plt\n",
    "import os\n",
    "from sklearn.externals import joblib\n",
    "import seaborn as sns\n",
    "sns.set(style=\"darkgrid\")"
   ]
  },
  {
   "cell_type": "code",
   "execution_count": 7,
   "metadata": {},
   "outputs": [
    {
     "data": {
      "text/plain": [
       "'0.24.2'"
      ]
     },
     "execution_count": 7,
     "metadata": {},
     "output_type": "execute_result"
    }
   ],
   "source": [
    "props = ['size','comp_time','comp_size','decomp_time','pdf']\n",
    "com_path = '/home/coep/lzw/LZW-Compression/test_objects/test1/'\n",
    "pdff = str()\n",
    "pd.__version__"
   ]
  },
  {
   "cell_type": "markdown",
   "metadata": {},
   "source": [
    "# Compression Ratio plots\n",
    "\n",
    "## Helper function plot_cr()"
   ]
  },
  {
   "cell_type": "code",
   "execution_count": 15,
   "metadata": {},
   "outputs": [],
   "source": [
    "def plot_cr(pdff, dtf, ytk, xtk=range(0, 41000000, 5000000)):\n",
    "    gpd1 = pd.DataFrame.from_dict(joblib.load(com_path + pdff + dtf))\n",
    "    gpd1 = gpd1.sort_values(by=['size']).reset_index(drop=True)\n",
    "    gpd1 = gpd1.assign(comp_ratio=gpd1['comp_size']/gpd1['size'])\n",
    "    plt.plot(gpd1['size'], gpd1['comp_ratio'], 'ro-')\n",
    "    plt.title('Compression Ratio for ' + pdff + ' files')\n",
    "    plt.yticks(ytk)\n",
    "    plt.xticks(xtk)\n",
    "    return plt.show\n",
    "#return gpd1.plot(x='size',y='comp_ratio',kind='scatter',title='Compression Ratio for ' + pdff + ' files')"
   ]
  },
  {
   "cell_type": "code",
   "execution_count": 18,
   "metadata": {},
   "outputs": [
    {
     "data": {
      "text/plain": [
       "<function matplotlib.pyplot.show(*args, **kw)>"
      ]
     },
     "execution_count": 18,
     "metadata": {},
     "output_type": "execute_result"
    },
    {
     "data": {
      "image/png": "[encoded data removed]",
      "text/plain": [
       "<Figure size 432x288 with 1 Axes>"
      ]
     },
     "metadata": {},
     "output_type": "display_data"
    }
   ],
   "source": [
    "#gpd1 = pd.DataFrame.from_dict(gaus_res1)\n",
    "pdff = 'Gaussian'\n",
    "plot_cr(pdff,'1/gaus_consol.sav', [x/100 for x in range(88, 104, 2)])"
   ]
  },
  {
   "cell_type": "code",
   "execution_count": null,
   "metadata": {},
   "outputs": [],
   "source": []
  }
 ],
 "metadata": {
  "kernelspec": {
   "display_name": "Python 3",
   "language": "python",
   "name": "python3"
  },
  "language_info": {
   "codemirror_mode": {
    "name": "ipython",
    "version": 3
   },
   "file_extension": ".py",
   "mimetype": "text/x-python",
   "name": "python",
   "nbconvert_exporter": "python",
   "pygments_lexer": "ipython3",
   "version": "3.6.7"
  }
 },
 "nbformat": 4,
 "nbformat_minor": 2
}
