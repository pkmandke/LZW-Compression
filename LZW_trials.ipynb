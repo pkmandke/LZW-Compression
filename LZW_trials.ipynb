{
 "cells": [
  {
   "cell_type": "markdown",
   "metadata": {},
   "source": [
    "# LZW Demo\n",
    "\n",
    "Trials"
   ]
  },
  {
   "cell_type": "code",
   "execution_count": 2,
   "metadata": {},
   "outputs": [
    {
     "name": "stdout",
     "output_type": "stream",
     "text": [
      "Collecting numpy\n",
      "  Using cached https://files.pythonhosted.org/packages/86/04/bd774106ae0ae1ada68c67efe89f1a16b2aa373cc2db15d974002a9f136d/numpy-1.15.4-cp35-cp35m-manylinux1_x86_64.whl\n",
      "Installing collected packages: numpy\n",
      "Successfully installed numpy-1.15.4\n"
     ]
    }
   ],
   "source": [
    "! pip3 install numpy"
   ]
  },
  {
   "cell_type": "code",
   "execution_count": 30,
   "metadata": {},
   "outputs": [
    {
     "name": "stdout",
     "output_type": "stream",
     "text": [
      "Collecting matplotlib\n",
      "  Using cached https://files.pythonhosted.org/packages/ad/4c/0415f15f96864c3a2242b1c74041a806c100c1b21741206c5d87684437c6/matplotlib-3.0.2-cp35-cp35m-manylinux1_x86_64.whl\n",
      "Collecting pyparsing!=2.0.4,!=2.1.2,!=2.1.6,>=2.0.1 (from matplotlib)\n",
      "  Using cached https://files.pythonhosted.org/packages/71/e8/6777f6624681c8b9701a8a0a5654f3eb56919a01a78e12bf3c73f5a3c714/pyparsing-2.3.0-py2.py3-none-any.whl\n",
      "Collecting kiwisolver>=1.0.1 (from matplotlib)\n",
      "  Using cached https://files.pythonhosted.org/packages/7e/31/d6fedd4fb2c94755cd101191e581af30e1650ccce7a35bddb7930fed6574/kiwisolver-1.0.1-cp35-cp35m-manylinux1_x86_64.whl\n",
      "Requirement already satisfied: python-dateutil>=2.1 in /home/prathamesh/myvenv/lztest/lib/python3.5/site-packages (from matplotlib) (2.7.5)\n",
      "Requirement already satisfied: numpy>=1.10.0 in /home/prathamesh/myvenv/lztest/lib/python3.5/site-packages (from matplotlib) (1.15.4)\n",
      "Collecting cycler>=0.10 (from matplotlib)\n",
      "  Using cached https://files.pythonhosted.org/packages/f7/d2/e07d3ebb2bd7af696440ce7e754c59dd546ffe1bbe732c8ab68b9c834e61/cycler-0.10.0-py2.py3-none-any.whl\n",
      "Requirement already satisfied: setuptools in /home/prathamesh/myvenv/lztest/lib/python3.5/site-packages (from kiwisolver>=1.0.1->matplotlib) (40.6.3)\n",
      "Requirement already satisfied: six>=1.5 in /home/prathamesh/myvenv/lztest/lib/python3.5/site-packages (from python-dateutil>=2.1->matplotlib) (1.12.0)\n",
      "Installing collected packages: pyparsing, kiwisolver, cycler, matplotlib\n",
      "Successfully installed cycler-0.10.0 kiwisolver-1.0.1 matplotlib-3.0.2 pyparsing-2.3.0\n"
     ]
    }
   ],
   "source": [
    "! pip3 install matplotlib"
   ]
  },
  {
   "cell_type": "code",
   "execution_count": 1,
   "metadata": {},
   "outputs": [],
   "source": [
    "! python3 file_gen.py"
   ]
  },
  {
   "cell_type": "code",
   "execution_count": 2,
   "metadata": {},
   "outputs": [
    {
     "name": "stdout",
     "output_type": "stream",
     "text": [
      "Working on file #1.....  \n",
      "Done\n",
      "1 files created with exponential distriubution.\n"
     ]
    }
   ],
   "source": [
    "import numpy as np\n",
    "import numpy.random as npr\n",
    "\n",
    "from file_gen import *\n",
    "\n",
    "f_n = file_generator('/home/prathamesh/git_projects/LZW_dem/files/')\n",
    "f_n.exponential(scale=10)"
   ]
  },
  {
   "cell_type": "code",
   "execution_count": 3,
   "metadata": {},
   "outputs": [
    {
     "name": "stderr",
     "output_type": "stream",
     "text": [
      "No traceback available to show.\n"
     ]
    },
    {
     "name": "stdout",
     "output_type": "stream",
     "text": [
      "Reading file and preparing to compress...\n",
      "Processing file in 1 chunks of 1000000bytes each.\n",
      "Working on chunk1/1\n"
     ]
    }
   ],
   "source": [
    "import lzw\n",
    "import sys\n",
    "from lzw.Compress import compress as comp\n",
    "from lzw.Decompress import decompress as dec\n",
    "%tb\n",
    "c = comp('/home/prathamesh/git_projects/LZW_dem/files/sc10_exp1.txt','/home/prathamesh/git_projects/LZW_dem/files/', encoding='ascii_127')\n",
    "c.encode()"
   ]
  },
  {
   "cell_type": "code",
   "execution_count": 4,
   "metadata": {},
   "outputs": [
    {
     "name": "stdout",
     "output_type": "stream",
     "text": [
      "Beginning to decompress...\n",
      "Processing file in chunks of 654756bytes. Working on chunk1/1\n"
     ]
    }
   ],
   "source": [
    "d = dec('/home/prathamesh/git_projects/LZW_dem/files/sc10_exp1_compressed.txt','/home/prathamesh/git_projects/LZW_dem/files/',encoding='ascii_127')\n",
    "d.decode()"
   ]
  },
  {
   "cell_type": "code",
   "execution_count": null,
   "metadata": {},
   "outputs": [],
   "source": []
  }
 ],
 "metadata": {
  "kernelspec": {
   "display_name": "Python 3",
   "language": "python",
   "name": "python3"
  },
  "language_info": {
   "codemirror_mode": {
    "name": "ipython",
    "version": 3
   },
   "file_extension": ".py",
   "mimetype": "text/x-python",
   "name": "python",
   "nbconvert_exporter": "python",
   "pygments_lexer": "ipython3",
   "version": "3.5.2"
  }
 },
 "nbformat": 4,
 "nbformat_minor": 2
}
