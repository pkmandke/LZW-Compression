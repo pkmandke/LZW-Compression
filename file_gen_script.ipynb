{
 "cells": [
  {
   "cell_type": "markdown",
   "metadata": {},
   "source": [
    "# File generator"
   ]
  },
  {
   "cell_type": "code",
   "execution_count": 2,
   "metadata": {},
   "outputs": [
    {
     "name": "stdout",
     "output_type": "stream",
     "text": [
      "/home/prathamesh/myvenv/lztest/bin/python3\r\n"
     ]
    }
   ],
   "source": [
    "! which python3"
   ]
  },
  {
   "cell_type": "code",
   "execution_count": 3,
   "metadata": {},
   "outputs": [
    {
     "name": "stdout",
     "output_type": "stream",
     "text": [
      "Collecting sklearn\n",
      "Collecting scikit-learn (from sklearn)\n",
      "\u001b[?25l  Downloading https://files.pythonhosted.org/packages/18/d9/bea927c86bf78d583d517f24cbc87606cb333bfb3a5c99cb85b547305f0f/scikit_learn-0.20.2-cp35-cp35m-manylinux1_x86_64.whl (5.3MB)\n",
      "\u001b[K    100% |████████████████████████████████| 5.3MB 4.5MB/s ta 0:00:01    55% |█████████████████▋              | 2.9MB 861kB/s eta 0:00:03    93% |██████████████████████████████  | 5.0MB 805kB/s eta 0:00:01\n",
      "\u001b[?25hRequirement already satisfied: numpy>=1.8.2 in /home/prathamesh/myvenv/lztest/lib/python3.5/site-packages (from scikit-learn->sklearn) (1.15.4)\n",
      "Collecting scipy>=0.13.3 (from scikit-learn->sklearn)\n",
      "  Using cached https://files.pythonhosted.org/packages/ab/19/c0ad5b9183ef97030edd6297d1726525ff2c369a09fbb6ea52a1e616ffd6/scipy-1.2.0-cp35-cp35m-manylinux1_x86_64.whl\n",
      "Installing collected packages: scipy, scikit-learn, sklearn\n",
      "Successfully installed scikit-learn-0.20.2 scipy-1.2.0 sklearn-0.0\n"
     ]
    }
   ],
   "source": [
    "! pip3 install sklearn"
   ]
  },
  {
   "cell_type": "code",
   "execution_count": 1,
   "metadata": {},
   "outputs": [],
   "source": [
    "from file_gen import *\n",
    "from IPython.display import clear_output \n",
    "import time\n",
    "from datetime import timedelta"
   ]
  },
  {
   "cell_type": "code",
   "execution_count": 2,
   "metadata": {},
   "outputs": [
    {
     "name": "stdout",
     "output_type": "stream",
     "text": [
      "/home/prathamesh/myvenv/lztest/bin/python3\r\n"
     ]
    }
   ],
   "source": [
    "! which python3"
   ]
  },
  {
   "cell_type": "code",
   "execution_count": 3,
   "metadata": {},
   "outputs": [],
   "source": [
    "! python3 file_gen.py"
   ]
  },
  {
   "cell_type": "code",
   "execution_count": null,
   "metadata": {},
   "outputs": [],
   "source": [
    "# Creating Gaussian files\n",
    "F_SIZE = 500000\n",
    "gaus = file_generator(path='/home/prathamesh/git_projects/LZW_dem/files/Gaussian1/',char_count=F_SIZE)\n",
    "pois = file_generator(path='/home/prathamesh/git_projects/LZW_dem/files/Poisson1/', char_count=F_SIZE)\n",
    "unif = file_generator(path='/home/prathamesh/git_projects/LZW_dem/files/Uniform1/', char_count=F_SIZE)\n",
    "expo = file_generator(path='/home/prathamesh/git_projects/LZW_dem/files/Exponential1/', char_count=F_SIZE)\n",
    "\n",
    "time1 = time.monotonic()\n",
    "\n",
    "for _ in range(7):\n",
    "    gaus.gaussian(mean=80, std=24, char_count=F_SIZE)\n",
    "    pois.poisson(lam=80, char_count=F_SIZE)\n",
    "    unif.uniform(low=32, high=127, char_count=F_SIZE)\n",
    "    expo.exponential(scale=80, char_count=F_SIZE)\n",
    "    clear_output()\n",
    "    F_SIZE += 2\n",
    "    \n",
    "time1 = time.monotonic() - time1\n",
    "time2 = time.monotonic()\n",
    "\n",
    "F_SIZE = 12.5*1000000\n",
    "\n",
    "for _ in range(4):\n",
    "    gaus.gaussian(mean=80, std=24, char_count=int(F_SIZE))\n",
    "    pois.poisson(lam=80, char_count=int(F_SIZE))\n",
    "    unif.uniform(low=32, high=127, char_count=int(F_SIZE))\n",
    "    expo.exponential(scale=80, char_count=int(F_SIZE))\n",
    "    clear_output()\n",
    "    F_SIZE += 2.5*1000000\n",
    "    \n",
    "time2 = time.monotonic() - time2\n",
    "print(timedelta(time1), timedelta(time2))"
   ]
  },
  {
   "cell_type": "code",
   "execution_count": null,
   "metadata": {},
   "outputs": [],
   "source": [
    "gaus = file_generator(path='/home/prathamesh/git_projects/LZW_dem/files/Gaussian1/')\n",
    "pois = file_generator(path='/home/prathamesh/git_projects/LZW_dem/files/Poisson1/')\n",
    "unif = file_generator(path='/home/prathamesh/git_projects/LZW_dem/files/Uniform1/')\n",
    "expo = file_generator(path='/home/prathamesh/git_projects/LZW_dem/files/Exponential1/')\n",
    "\n",
    "F_SIZE = int(12.5*1000000)\n",
    "t1 = time.monotonic()\n",
    "\n",
    "gaus.gaussian(mean=80, std=24, char_count=6000000)\n",
    "pois.poisson(lam=80, char_count=6000000)\n",
    "unif.uniform(low=32, high=127, char_count=6000000)\n",
    "expo.exponential(scale=80, char_count=6000000)\n",
    "\n",
    "\n",
    "for _ in range(4):\n",
    "    gaus.gaussian(mean=80, std=24, char_count=int(F_SIZE))\n",
    "    pois.poisson(lam=80, char_count=int(F_SIZE))\n",
    "    unif.uniform(low=32, high=127, char_count=int(F_SIZE))\n",
    "    expo.exponential(scale=80, char_count=int(F_SIZE))\n",
    "    clear_output()\n",
    "    F_SIZE += 2500000\n",
    "    \n",
    "print(timedelta(time.monotonic()-t1))"
   ]
  },
  {
   "cell_type": "code",
   "execution_count": 3,
   "metadata": {},
   "outputs": [
    {
     "name": "stdout",
     "output_type": "stream",
     "text": [
      "Working on file #1.....Done\n",
      "1 files created with Gaussian distribution.\n",
      "Working on file #1.....Done\n",
      "1 files created with Poisson distribution.\n",
      "Working on file #1.....Done\n",
      "1 files created with uniform distriubution.\n",
      "Working on file #1.....Done\n",
      "1 files created with exponential distriubution.\n",
      "Working on file #1.....Done\n",
      "1 files created with Gaussian distribution.\n",
      "Working on file #1.....Done\n",
      "1 files created with Poisson distribution.\n",
      "Working on file #1.....Done\n",
      "1 files created with uniform distriubution.\n",
      "Working on file #1.....Done\n",
      "1 files created with exponential distriubution.\n",
      "Working on file #1.....Done\n",
      "1 files created with Gaussian distribution.\n",
      "Working on file #1.....Done\n",
      "1 files created with Poisson distribution.\n",
      "Working on file #1.....Done\n",
      "1 files created with uniform distriubution.\n",
      "Working on file #1.....Done\n",
      "1 files created with exponential distriubution.\n"
     ]
    }
   ],
   "source": [
    "gaus = file_generator(path='/home/prathamesh/git_projects/LZW_dem/files/Gaussian1/original')\n",
    "pois = file_generator(path='/home/prathamesh/git_projects/LZW_dem/files/Poisson1/original')\n",
    "unif = file_generator(path='/home/prathamesh/git_projects/LZW_dem/files/Uniform1/original')\n",
    "expo = file_generator(path='/home/prathamesh/git_projects/LZW_dem/files/Exponential1/original')\n",
    "\n",
    "gaus.gaussian(mean=80, std=24, char_count=10000000)\n",
    "pois.poisson(lam=80, char_count=10000000)\n",
    "unif.uniform(low=32, high=127, char_count=10000000)\n",
    "expo.exponential(scale=80, char_count=10000000)\n",
    "\n",
    "gaus.gaussian(mean=80, std=24, char_count=36000000)\n",
    "pois.poisson(lam=80, char_count=36000000)\n",
    "unif.uniform(low=32, high=127, char_count=36000000)\n",
    "expo.exponential(scale=80, char_count=36000000)\n",
    "\n",
    "gaus.gaussian(mean=80, std=24, char_count=40000000)\n",
    "pois.poisson(lam=80, char_count=40000000)\n",
    "unif.uniform(low=32, high=127, char_count=40000000)\n",
    "expo.exponential(scale=80, char_count=40000000)"
   ]
  },
  {
   "cell_type": "code",
   "execution_count": 7,
   "metadata": {},
   "outputs": [
    {
     "data": {
      "text/plain": [
       "['originalm80_s24_gaus1_sz36-0.txt',\n",
       " '17500000.txt',\n",
       " '4000000.txt',\n",
       " '12500000.txt',\n",
       " '500000.txt',\n",
       " '15000000.txt',\n",
       " '1000000.txt',\n",
       " '20000000.txt',\n",
       " '16000000.txt',\n",
       " 'originalm80_s24_gaus1_sz40-0.txt',\n",
       " '32000000.txt',\n",
       " '2000000.txt',\n",
       " '8000000.txt',\n",
       " '24000000.txt',\n",
       " '6000000.txt',\n",
       " '28000000.txt',\n",
       " 'originalm80_s24_gaus1_sz10-0.txt']"
      ]
     },
     "execution_count": 7,
     "metadata": {},
     "output_type": "execute_result"
    }
   ],
   "source": [
    "os.chdir('/home/prathamesh/git_projects/LZW_dem/files/Gaussian1/original')\n",
    "os.listdir()"
   ]
  },
  {
   "cell_type": "code",
   "execution_count": 12,
   "metadata": {},
   "outputs": [],
   "source": [
    "os.chdir('/home/prathamesh/git_projects/LZW_dem/files/Poisson1/original')\n",
    "for file in os.listdir():\n",
    "    f = file.split('.')\n",
    "    os.rename(file, str(os.path.getsize(os.getcwd()+'/'+file))+'.'+f[1])"
   ]
  }
 ],
 "metadata": {
  "kernelspec": {
   "display_name": "Python 3",
   "language": "python",
   "name": "python3"
  },
  "language_info": {
   "codemirror_mode": {
    "name": "ipython",
    "version": 3
   },
   "file_extension": ".py",
   "mimetype": "text/x-python",
   "name": "python",
   "nbconvert_exporter": "python",
   "pygments_lexer": "ipython3",
   "version": "3.5.2"
  }
 },
 "nbformat": 4,
 "nbformat_minor": 2
}
