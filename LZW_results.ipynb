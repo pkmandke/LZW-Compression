{
 "cells": [
  {
   "cell_type": "markdown",
   "metadata": {},
   "source": [
    "# LZW Results\n",
    "\n",
    "This notebook presents the results of compressing 17 utf-8 text files for each the following distributions:\n",
    "* Gaussian \n",
    "* Poisson\n",
    "* Uniform\n",
    "* Exponential\n",
    "\n",
    "The characters in the files have been sampled from the aforementioned probability distributions.\n",
    "The file sizes range from 500KB through 40MB.\n"
   ]
  },
  {
   "cell_type": "code",
   "execution_count": 4,
   "metadata": {},
   "outputs": [
    {
     "name": "stdout",
     "output_type": "stream",
     "text": [
      "Collecting matplotlib\n",
      "\u001b[?25l  Downloading https://files.pythonhosted.org/packages/ad/4c/0415f15f96864c3a2242b1c74041a806c100c1b21741206c5d87684437c6/matplotlib-3.0.2-cp35-cp35m-manylinux1_x86_64.whl (12.9MB)\n",
      "\u001b[K    100% |████████████████████████████████| 12.9MB 6.1MB/s eta 0:00:01\n",
      "\u001b[?25hRequirement already satisfied: numpy>=1.10.0 in /home/coesip/7069/lzw/lib/python3.5/site-packages (from matplotlib) (1.16.0)\n",
      "Collecting cycler>=0.10 (from matplotlib)\n",
      "  Downloading https://files.pythonhosted.org/packages/f7/d2/e07d3ebb2bd7af696440ce7e754c59dd546ffe1bbe732c8ab68b9c834e61/cycler-0.10.0-py2.py3-none-any.whl\n",
      "Collecting kiwisolver>=1.0.1 (from matplotlib)\n",
      "\u001b[?25l  Downloading https://files.pythonhosted.org/packages/7e/31/d6fedd4fb2c94755cd101191e581af30e1650ccce7a35bddb7930fed6574/kiwisolver-1.0.1-cp35-cp35m-manylinux1_x86_64.whl (949kB)\n",
      "\u001b[K    100% |████████████████████████████████| 952kB 38.3MB/s ta 0:00:011\n",
      "\u001b[?25hRequirement already satisfied: python-dateutil>=2.1 in /home/coesip/7069/lzw/lib/python3.5/site-packages (from matplotlib) (2.7.5)\n",
      "Collecting pyparsing!=2.0.4,!=2.1.2,!=2.1.6,>=2.0.1 (from matplotlib)\n",
      "\u001b[?25l  Downloading https://files.pythonhosted.org/packages/de/0a/001be530836743d8be6c2d85069f46fecf84ac6c18c7f5fb8125ee11d854/pyparsing-2.3.1-py2.py3-none-any.whl (61kB)\n",
      "\u001b[K    100% |████████████████████████████████| 71kB 46.6MB/s ta 0:00:01\n",
      "\u001b[?25hRequirement already satisfied: six in /home/coesip/7069/lzw/lib/python3.5/site-packages (from cycler>=0.10->matplotlib) (1.12.0)\n",
      "Requirement already satisfied: setuptools in /home/coesip/7069/lzw/lib/python3.5/site-packages (from kiwisolver>=1.0.1->matplotlib) (40.6.3)\n",
      "Installing collected packages: cycler, kiwisolver, pyparsing, matplotlib\n",
      "Successfully installed cycler-0.10.0 kiwisolver-1.0.1 matplotlib-3.0.2 pyparsing-2.3.1\n"
     ]
    }
   ],
   "source": [
    "! pip3 install matplotlib"
   ]
  },
  {
   "cell_type": "code",
   "execution_count": 7,
   "metadata": {},
   "outputs": [],
   "source": [
    "import pandas as pd\n",
    "import matplotlib.pyplot as plt\n",
    "import os\n",
    "from sklearn.externals import joblib"
   ]
  },
  {
   "cell_type": "code",
   "execution_count": 30,
   "metadata": {},
   "outputs": [
    {
     "data": {
      "text/plain": [
       "{'comp_size': [14821326, 18523699, 16213036, 11547066, 29721742],\n",
       " 'comp_time': [99.17414212999984,\n",
       "  118.98560784999972,\n",
       "  103.06485487400005,\n",
       "  73.13180752400012,\n",
       "  184.80840319800063],\n",
       " 'decomp_time': [35.79407418100027,\n",
       "  44.113759170999856,\n",
       "  38.543255987000066,\n",
       "  27.489125165000132,\n",
       "  70.35141157499947],\n",
       " 'pdf': ['Gaussian', 'Gaussian', 'Gaussian', 'Gaussian', 'Gaussian'],\n",
       " 'size': [16000000, 20000000, 17500000, 12500000, 32000000]}"
      ]
     },
     "execution_count": 30,
     "metadata": {},
     "output_type": "execute_result"
    }
   ],
   "source": [
    "## COmmon vars\n",
    "com_path = '/home/coesip/7069/LZW-Compression/test_objects/test1/'\n",
    "pdff = 'Gaussian'\n",
    "obj_file = 'gaus_great10mb.sav'\n",
    "gaus_res2 = joblib.load(com_path + pdff + '1/' + obj_file)\n",
    "gpd1 = pd.DataFrame.from_dict(gaus_res1)\n",
    "gaus_res2"
   ]
  },
  {
   "cell_type": "markdown",
   "metadata": {},
   "source": [
    "# Gaussian"
   ]
  },
  {
   "cell_type": "code",
   "execution_count": null,
   "metadata": {},
   "outputs": [],
   "source": [
    "pd.dataFrame.from_dict()"
   ]
  }
 ],
 "metadata": {
  "kernelspec": {
   "display_name": "Python 3",
   "language": "python",
   "name": "python3"
  },
  "language_info": {
   "codemirror_mode": {
    "name": "ipython",
    "version": 3
   },
   "file_extension": ".py",
   "mimetype": "text/x-python",
   "name": "python",
   "nbconvert_exporter": "python",
   "pygments_lexer": "ipython3",
   "version": "3.5.2"
  }
 },
 "nbformat": 4,
 "nbformat_minor": 2
}
