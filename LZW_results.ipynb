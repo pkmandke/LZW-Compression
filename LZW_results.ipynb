{
 "cells": [
  {
   "cell_type": "markdown",
   "metadata": {},
   "source": [
    "# LZW Results\n",
    "\n",
    "This notebook presents the results of compressing 17 utf-8 text files for each the following distributions:\n",
    "* Gaussian \n",
    "* Poisson\n",
    "* Uniform\n",
    "* Exponential\n",
    "\n",
    "The characters in the files have been sampled from the aforementioned probability distributions.\n",
    "The file sizes range from 500KB through 40MB.\n"
   ]
  },
  {
   "cell_type": "code",
   "execution_count": 2,
   "metadata": {},
   "outputs": [],
   "source": [
    "import pandas as pd\n",
    "import matplotlib.pyplot as plt\n",
    "import os\n",
    "from sklearn.externals import joblib"
   ]
  },
  {
   "cell_type": "code",
   "execution_count": 11,
   "metadata": {},
   "outputs": [
    {
     "name": "stdout",
     "output_type": "stream",
     "text": [
      "[16000000, 20000000, 17500000, 12500000, 32000000]\n",
      "\n",
      "\n"
     ]
    }
   ],
   "source": [
    "## Common vars\n",
    "com_path = '/home/coesip/7069/LZW-Compression/test_objects/test1/'\n",
    "pdff = 'Exponential'\n",
    "obj_file = 'gaus_great10mb.sav'\n",
    "#gaus_res2 = joblib.load(com_path + pdff + '1/' + obj_file)\n",
    "gs1 = joblib.load('/home/coesip/7069/LZW-Compression/test_objects/test1/Exponential/exp_le36MB.sav')\n",
    "gs2 = joblib.load('/home/coesip/7069/LZW-Compression/test_objects/test1/Gaussian1/gaus_great10mb.sav')\n",
    "#gpd1 = pd.DataFrame.from_dict(gaus_res1)\n",
    "print(gs1['size'])\n",
    "print()\n",
    "print()\n",
    "#print(gs2)"
   ]
  },
  {
   "cell_type": "markdown",
   "metadata": {},
   "source": [
    "# Gaussian"
   ]
  },
  {
   "cell_type": "code",
   "execution_count": null,
   "metadata": {},
   "outputs": [],
   "source": [
    "pd.dataFrame.from_dict()"
   ]
  }
 ],
 "metadata": {
  "kernelspec": {
   "display_name": "Python 3",
   "language": "python",
   "name": "python3"
  },
  "language_info": {
   "codemirror_mode": {
    "name": "ipython",
    "version": 3
   },
   "file_extension": ".py",
   "mimetype": "text/x-python",
   "name": "python",
   "nbconvert_exporter": "python",
   "pygments_lexer": "ipython3",
   "version": "3.5.2"
  }
 },
 "nbformat": 4,
 "nbformat_minor": 2
}
